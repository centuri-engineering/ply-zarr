{
 "cells": [
  {
   "cell_type": "code",
   "execution_count": 1,
   "id": "cheap-disorder",
   "metadata": {},
   "outputs": [],
   "source": [
    "import io\n",
    "from pathlib import Path\n",
    "\n",
    "import meshio\n",
    "import numpy as np\n",
    "import matplotlib.pyplot as plt\n",
    "\n",
    "import zarr\n",
    "import dask as da\n",
    "\n",
    "from datetime import datetime"
   ]
  },
  {
   "cell_type": "markdown",
   "id": "needed-death",
   "metadata": {},
   "source": [
    "```\n",
    "ply\n",
    "format ascii 1.0           { ascii/binary, format version number }\n",
    "comment made by Greg Turk  { comments keyword specified, like all lines }\n",
    "comment this file is a cube\n",
    "element vertex 8           { define \"vertex\" element, 8 of them in file }\n",
    "property float x           { vertex contains float \"x\" coordinate }\n",
    "property float y           { y coordinate is also a vertex property }\n",
    "property float z           { z coordinate, too }\n",
    "element face 6             { there are 6 \"face\" elements in the file }\n",
    "property list uchar int vertex_index { \"vertex_indices\" is a list of ints }\n",
    "end_header                 { delimits the end of the header }\n",
    "0 0 0                      { start of vertex list }\n",
    "0 0 1\n",
    "0 1 1\n",
    "0 1 0\n",
    "1 0 0\n",
    "1 0 1\n",
    "1 1 1\n",
    "1 1 0\n",
    "4 0 1 2 3                  { start of face list }\n",
    "4 7 6 5 4\n",
    "4 0 4 5 1\n",
    "4 1 5 6 2\n",
    "4 2 6 7 3\n",
    "4 3 7 4 0\n",
    "```"
   ]
  },
  {
   "cell_type": "code",
   "execution_count": 2,
   "id": "demographic-invite",
   "metadata": {},
   "outputs": [],
   "source": [
    "mesh = meshio.read('test.ply')"
   ]
  },
  {
   "cell_type": "code",
   "execution_count": 3,
   "id": "standing-victoria",
   "metadata": {},
   "outputs": [
    {
     "data": {
      "image/png": "[encoded data removed]",
      "text/plain": [
       "<Figure size 432x288 with 1 Axes>"
      ]
     },
     "metadata": {
      "needs_background": "light"
     },
     "output_type": "display_data"
    }
   ],
   "source": [
    "fig, ax = plt.subplots()\n",
    "\n",
    "lines = ax.plot(*mesh.points[mesh.cells_dict['line'], :2].T, 'k');\n"
   ]
  },
  {
   "cell_type": "code",
   "execution_count": 4,
   "id": "christian-spelling",
   "metadata": {},
   "outputs": [],
   "source": [
    "ply_header = {\n",
    "    \"format\": \"ascii 1.0\",\n",
    "    \"comments\": [f\"created by ply_zarr v0.0.1, {datetime.now().isoformat()}\",],\n",
    "    \"elements\": {\n",
    "        \"vertex\": {\n",
    "            \"size\": 47,\n",
    "            \"properties\": [\n",
    "                (\"double\", \"x\"),\n",
    "                (\"double\", \"y\"),\n",
    "                (\"double\", \"z\")\n",
    "            ]\n",
    "        },    \n",
    "        \"face\": {\n",
    "            \"size\": 105,\n",
    "            \"properties\": [\n",
    "                (\"list\", \"uint8\", \"int32\", \"vertex_indices\"),\n",
    "            ]\n",
    "        }\n",
    "    }\n",
    "}\n"
   ]
  },
  {
   "cell_type": "code",
   "execution_count": 5,
   "id": "engaged-information",
   "metadata": {},
   "outputs": [],
   "source": [
    "def parse_ply_header(fh):\n",
    "    \"\"\"\n",
    "    fh: file handle on a ply file\n",
    "    \"\"\"\n",
    "    fh.seek(0)\n",
    "    attrs = {}\n",
    "    attrs['format'] = \"\"\n",
    "    attrs['comments'] = []\n",
    "    attrs['elements'] = {}\n",
    "    last_elem = None\n",
    "    if not fh.readline().decode(\"utf-8\").startswith('ply'):\n",
    "        raise IOError(\"Not a ply file\")\n",
    "    for line in fh:\n",
    "        line = line.decode(\"utf-8\")\n",
    "        start, *rest = line.split()\n",
    "        if start == 'format':\n",
    "            attrs['format'] = \" \".join(rest)\n",
    "\n",
    "        elif start == \"comment\":\n",
    "            attrs['comments'].append(\" \".join(rest))\n",
    "\n",
    "        elif start == \"element\":\n",
    "            elem = rest[0]\n",
    "            attrs['elements'][elem] = {\n",
    "                \"size\": int(rest[1]),\n",
    "                \"properties\": []\n",
    "            }\n",
    "            last_elem = elem\n",
    "\n",
    "        elif start == \"property\":\n",
    "            attrs['elements'][elem][\"properties\"].append(tuple(rest))\n",
    "\n",
    "        elif start == \"end_header\":\n",
    "            break\n",
    "    \n",
    "    return attrs"
   ]
  },
  {
   "cell_type": "code",
   "execution_count": 6,
   "id": "engaging-width",
   "metadata": {},
   "outputs": [],
   "source": [
    "with open(\"test.ply\", \"rb\") as fh:\n",
    "    attrs = parse_ply_header(fh)"
   ]
  },
  {
   "cell_type": "code",
   "execution_count": 7,
   "id": "daily-savannah",
   "metadata": {},
   "outputs": [
    {
     "data": {
      "text/plain": [
       "{'format': 'ascii 1.0',\n",
       " 'comments': ['Created by meshio v4.3.8, 2021-02-24T11:44:59.848778'],\n",
       " 'elements': {'vertex': {'size': 47,\n",
       "   'properties': [('double', 'x'), ('double', 'y'), ('double', 'z')]},\n",
       "  'face': {'size': 105,\n",
       "   'properties': [('list', 'uint8', 'int32', 'vertex_indices')]}}}"
      ]
     },
     "execution_count": 7,
     "metadata": {},
     "output_type": "execute_result"
    }
   ],
   "source": [
    "attrs"
   ]
  },
  {
   "cell_type": "code",
   "execution_count": 8,
   "id": "killing-spring",
   "metadata": {},
   "outputs": [],
   "source": [
    "def attrs_to_ply_header(attrs):\n",
    "    lines = []\n",
    "    lines.append(\"ply\")\n",
    "    lines.append('format '+attrs[\"format\"])\n",
    "    \n",
    "    if attrs.get(\"comments\"):\n",
    "        lines.extend(['comment ' + c for c in attrs[\"comments\"]])\n",
    "    for elem, elem_dict in attrs[\"elements\"].items():\n",
    "        lines.append(f\"element {elem} {elem_dict['size']}\")\n",
    "        for prop in elem_dict[\"properties\"]:\n",
    "            lines.append(\"property \"+\" \".join(prop))\n",
    "    lines.append(\"end_header\\n\")\n",
    "    return \"\\n\".join(lines)"
   ]
  },
  {
   "cell_type": "code",
   "execution_count": 9,
   "id": "precise-poultry",
   "metadata": {},
   "outputs": [],
   "source": [
    "from meshio.ply._ply import cell_type_to_count, numpy_to_ply_dtype\n",
    "\n",
    "def header_from_mesh(mesh, fh, binary=False):\n",
    "    \"\"\"Shamelessly stolen from meshio\n",
    "    \n",
    "    https://github.com/nschloe/meshio/blob/0600ac9e9e8d1e1a27d5f3f2f4235414f4482cac/meshio/ply/_ply.py#L392\n",
    "    \n",
    "    \n",
    "    \n",
    "    \"\"\"\n",
    "    # TODO: what to do with binary?\n",
    "\n",
    "    fh.write(b\"ply\\n\")\n",
    "\n",
    "    if binary:\n",
    "        fh.write(f\"format binary_{sys.byteorder}_endian 1.0\\n\".encode(\"utf-8\"))\n",
    "    else:\n",
    "        fh.write(b\"format ascii 1.0\\n\")\n",
    "\n",
    "    fh.write(\n",
    "        \"comment Created by ply-zarr v0.0.1, {}\\n\".format(\n",
    "            datetime.now().isoformat()\n",
    "        ).encode(\"utf-8\")\n",
    "    )\n",
    "\n",
    "    # counts\n",
    "    fh.write(\"element vertex {:d}\\n\".format(mesh.points.shape[0]).encode(\"utf-8\"))\n",
    "    #\n",
    "    dim_names = [\"x\", \"y\", \"z\"]\n",
    "    # From <https://en.wikipedia.org/wiki/PLY_(file_format)>:\n",
    "    #\n",
    "    # > The type can be specified with one of char uchar short ushort int uint float\n",
    "    # > double, or one of int8 uint8 int16 uint16 int32 uint32 float32 float64.\n",
    "    #\n",
    "    # We're adding [u]int64 here.\n",
    "    type_name_table = {\n",
    "        np.dtype(np.int8): \"int8\",\n",
    "        np.dtype(np.int16): \"int16\",\n",
    "        np.dtype(np.int32): \"int32\",\n",
    "        np.dtype(np.int64): \"int64\",\n",
    "        np.dtype(np.uint8): \"uint8\",\n",
    "        np.dtype(np.uint16): \"uint16\",\n",
    "        np.dtype(np.uint32): \"uint32\",\n",
    "        np.dtype(np.uint64): \"uint64\",\n",
    "        np.dtype(np.float32): \"float\",\n",
    "        np.dtype(np.float64): \"double\",\n",
    "    }\n",
    "    for k in range(mesh.points.shape[1]):\n",
    "        type_name = type_name_table[mesh.points.dtype]\n",
    "        fh.write(\"property {} {}\\n\".format(type_name, dim_names[k]).encode(\"utf-8\"))\n",
    "\n",
    "    pd = []\n",
    "    for key, value in mesh.point_data.items():\n",
    "        if len(value.shape) > 1:\n",
    "            warnings.warn(\n",
    "                \"PLY writer doesn't support multidimensional point data yet. Skipping {}.\".format(\n",
    "                    key\n",
    "                )\n",
    "            )\n",
    "            continue\n",
    "        type_name = type_name_table[value.dtype]\n",
    "        fh.write(f\"property {type_name} {key}\\n\".encode(\"utf-8\"))\n",
    "        pd.append(value)\n",
    "\n",
    "    num_cells = 0\n",
    "    for cell_type, c in mesh.cells:\n",
    "        if cell_type_to_count(cell_type):\n",
    "            num_cells += c.data.shape[0]\n",
    "    if num_cells > 0:\n",
    "        fh.write(f\"element face {num_cells:d}\\n\".encode(\"utf-8\"))\n",
    "\n",
    "        # possibly cast down to int32\n",
    "        has_cast = False\n",
    "        for k, (cell_type, data) in enumerate(mesh.cells):\n",
    "            if data.dtype == np.int64:\n",
    "                has_cast = True\n",
    "                mesh.cells[k] = CellBlock(cell_type, data.astype(np.int32))\n",
    "\n",
    "        if has_cast:\n",
    "            warnings.warn(\n",
    "                \"PLY doesn't support 64-bit integers. Casting down to 32-bit.\"\n",
    "            )\n",
    "\n",
    "        # assert that all cell dtypes are equal\n",
    "        cell_dtype = None\n",
    "        for _, cell in mesh.cells:\n",
    "            if cell_dtype is None:\n",
    "                cell_dtype = cell.dtype\n",
    "            if cell.dtype != cell_dtype:\n",
    "                raise WriteError()\n",
    "\n",
    "        if cell_dtype is not None:\n",
    "            ply_type = numpy_to_ply_dtype[cell_dtype]\n",
    "            fh.write(\n",
    "                \"property list {} {} vertex_indices\\n\".format(\n",
    "                    \"uint8\", ply_type\n",
    "                ).encode(\"utf-8\")\n",
    "            )\n",
    "\n",
    "    # TODO other cell data\n",
    "    fh.write(b\"end_header\\n\")\n"
   ]
  },
  {
   "cell_type": "code",
   "execution_count": 10,
   "id": "czech-album",
   "metadata": {},
   "outputs": [
    {
     "name": "stdout",
     "output_type": "stream",
     "text": [
      "ply\n",
      "format ascii 1.0\n",
      "comment Created by meshio v4.3.8, 2021-02-24T11:44:59.848778\n",
      "element vertex 47\n",
      "property double x\n",
      "property double y\n",
      "property double z\n",
      "element face 105\n",
      "property list uint8 int32 vertex_indices\n",
      "end_header\n",
      "\n"
     ]
    }
   ],
   "source": [
    "print(attrs_to_ply_header(attrs))"
   ]
  },
  {
   "cell_type": "code",
   "execution_count": 11,
   "id": "adequate-beginning",
   "metadata": {},
   "outputs": [],
   "source": [
    "with open(\"test.ply\", \"r\") as fh:\n",
    "    content = fh.readlines()"
   ]
  },
  {
   "cell_type": "code",
   "execution_count": 12,
   "id": "external-chassis",
   "metadata": {},
   "outputs": [
    {
     "data": {
      "text/plain": [
       "True"
      ]
     },
     "execution_count": 12,
     "metadata": {},
     "output_type": "execute_result"
    }
   ],
   "source": [
    "header = \"\".join(content[:10])\n",
    "\n",
    "header == attrs_to_ply_header(attrs)"
   ]
  },
  {
   "cell_type": "code",
   "execution_count": 14,
   "id": "paperback-employment",
   "metadata": {},
   "outputs": [
    {
     "name": "stdout",
     "output_type": "stream",
     "text": [
      "/\n",
      " ├── 2 (90, 2) int32\n",
      " ├── 5 (2, 5) int32\n",
      " ├── 6 (12, 6) int32\n",
      " ├── 8 (1, 8) int32\n",
      " └── points (47, 3) float64\n",
      "{'comments': ['Created by ply-zarr v0.0.1, 2021-02-24T17:15:21.819314'],\n",
      " 'elements': {'face': {'properties': [('list',\n",
      "                                       'uint8',\n",
      "                                       'int32',\n",
      "                                       'vertex_indices')],\n",
      "                       'size': 105},\n",
      "              'vertex': {'properties': [('double', 'x'),\n",
      "                                        ('double', 'y'),\n",
      "                                        ('double', 'z')],\n",
      "                         'size': 47}},\n",
      " 'format': 'ascii 1.0'}\n"
     ]
    }
   ],
   "source": [
    "from pprint import pprint\n",
    "\n",
    "def write_plyzarr(group, mesh):\n",
    "    \n",
    "    \n",
    "    # PLY header to mesh\n",
    "    fh = io.BytesIO()\n",
    "    header_from_mesh(mesh, fh, binary=False)\n",
    "    group.attrs.update(parse_ply_header(fh))\n",
    "\n",
    "    group[\"points\"] = mesh.points\n",
    "    for elem, verts in mesh.cells_dict.items():\n",
    "        cnt = cell_type_to_count(elem)\n",
    "        group[cnt] = verts\n",
    "\n",
    "root = zarr.group()\n",
    "write_plyzarr(root, mesh)\n",
    "print(root.tree())\n",
    "pprint(root.attrs.asdict())"
   ]
  },
  {
   "cell_type": "code",
   "execution_count": null,
   "id": "massive-antique",
   "metadata": {},
   "outputs": [],
   "source": []
  },
  {
   "cell_type": "code",
   "execution_count": 15,
   "id": "decreased-accommodation",
   "metadata": {},
   "outputs": [],
   "source": [
    "def plyzarr_to_ply(group, fh):\n",
    "    attrs = group.attrs.asdict()\n",
    "    header = attrs_to_ply_header(attrs)\n",
    "    fh.write(header.encode(\"utf-8\"))\n",
    "    points = group.points\n",
    "    fh.seek(0, 2)\n",
    "    np.savetxt(fh, points, fmt=\"%.18f\")\n",
    "    polys = [k for k in group.array_keys() if k != \"points\"]\n",
    "    polys.sort()\n",
    "    print(polys)\n",
    "    for p in polys:\n",
    "        sizes = int(p) * np.ones((group[p].shape[0], 1))\n",
    "        vertices = np.concatenate([sizes, group[p]], axis=1)\n",
    "        np.savetxt(fh, vertices, fmt=\"%d\")\n",
    "        fh.seek(0, 2)"
   ]
  },
  {
   "cell_type": "code",
   "execution_count": 24,
   "id": "democratic-western",
   "metadata": {},
   "outputs": [],
   "source": []
  },
  {
   "cell_type": "code",
   "execution_count": null,
   "id": "prescription-success",
   "metadata": {},
   "outputs": [],
   "source": [
    "%pdb"
   ]
  },
  {
   "cell_type": "code",
   "execution_count": 16,
   "id": "sustained-accommodation",
   "metadata": {},
   "outputs": [
    {
     "name": "stdout",
     "output_type": "stream",
     "text": [
      "['2', '5', '6', '8']\n"
     ]
    }
   ],
   "source": [
    "with open(\"test_out.ply\", \"wb\") as fh:\n",
    "    plyzarr_to_ply(root, fh)\n",
    "    "
   ]
  },
  {
   "cell_type": "code",
   "execution_count": 19,
   "id": "bizarre-boulder",
   "metadata": {},
   "outputs": [],
   "source": [
    "mesh_r = meshio.read(\"test_out.ply\")"
   ]
  },
  {
   "cell_type": "code",
   "execution_count": 22,
   "id": "narrow-generation",
   "metadata": {},
   "outputs": [
    {
     "data": {
      "text/plain": [
       "False"
      ]
     },
     "execution_count": 22,
     "metadata": {},
     "output_type": "execute_result"
    }
   ],
   "source": [
    "mesh_r == mesh"
   ]
  },
  {
   "cell_type": "code",
   "execution_count": 23,
   "id": "basic-kidney",
   "metadata": {},
   "outputs": [
    {
     "data": {
      "text/plain": [
       "<meshio mesh object>\n",
       "  Number of points: 47\n",
       "  Number of cells:\n",
       "    line: 90\n",
       "    polygon5: 2\n",
       "    polygon6: 12\n",
       "    polygon8: 1"
      ]
     },
     "execution_count": 23,
     "metadata": {},
     "output_type": "execute_result"
    }
   ],
   "source": [
    "mesh"
   ]
  },
  {
   "cell_type": "code",
   "execution_count": null,
   "id": "external-blend",
   "metadata": {},
   "outputs": [],
   "source": []
  },
  {
   "cell_type": "code",
   "execution_count": null,
   "id": "overhead-entity",
   "metadata": {},
   "outputs": [],
   "source": []
  }
 ],
 "metadata": {
  "kernelspec": {
   "display_name": "Python 3",
   "language": "python",
   "name": "python3"
  },
  "language_info": {
   "codemirror_mode": {
    "name": "ipython",
    "version": 3
   },
   "file_extension": ".py",
   "mimetype": "text/x-python",
   "name": "python",
   "nbconvert_exporter": "python",
   "pygments_lexer": "ipython3",
   "version": "3.9.1"
  }
 },
 "nbformat": 4,
 "nbformat_minor": 5
}
