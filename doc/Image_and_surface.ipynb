{
 "cells": [
  {
   "cell_type": "code",
   "execution_count": 1,
   "metadata": {},
   "outputs": [],
   "source": [
    "%gui qt\n",
    "import sys\n",
    "from pathlib import Path\n",
    "import urllib3\n",
    "\n",
    "from dataclasses import dataclass\n",
    "from scipy.spatial import ConvexHull\n",
    "\n",
    "import numpy as np\n",
    "\n",
    "import meshio\n",
    "import zarr\n",
    "import napari\n",
    "\n",
    "sys.path.append(\"..\")\n",
    "import ply_zarr\n",
    "\n",
    "from ome_zarr.utils import download"
   ]
  },
  {
   "cell_type": "markdown",
   "metadata": {},
   "source": [
    "## Load data from IDR and download it"
   ]
  },
  {
   "cell_type": "code",
   "execution_count": 2,
   "metadata": {},
   "outputs": [],
   "source": [
    "idr_data = \"https://s3.embassy.ebi.ac.uk/idr/zarr/v0.1/6001247.zarr/\"\n",
    "\n",
    "\n",
    "idr_name = idr_data.rstrip('/').split(\"/\")[-1]\n",
    "\n",
    "local_path = Path(\"../data/\") / idr_name\n",
    "if not local_path.exists():\n",
    "    download(idr_data, local_path.as_posix())\n"
   ]
  },
  {
   "cell_type": "code",
   "execution_count": 3,
   "metadata": {},
   "outputs": [],
   "source": [
    "data = zarr.open(local_path.as_posix(), \"a\")"
   ]
  },
  {
   "cell_type": "code",
   "execution_count": 4,
   "metadata": {},
   "outputs": [
    {
     "data": {
      "application/vnd.jupyter.widget-view+json": {
       "model_id": "c710cb86af9c4aa6a8b0488232528801",
       "version_major": 2,
       "version_minor": 0
      },
      "text/plain": [
       "Tree(nodes=(Node(disabled=True, name='/', nodes=(Node(disabled=True, icon='table', name='0 (1, 2, 257, 210, 25…"
      ]
     },
     "metadata": {},
     "output_type": "display_data"
    }
   ],
   "source": [
    "data.tree()"
   ]
  },
  {
   "cell_type": "code",
   "execution_count": 5,
   "metadata": {},
   "outputs": [],
   "source": [
    "labels = data['labels'][\"masks\"][0][0]\n",
    "\n",
    "lbls = np.unique(labels)\n",
    "\n",
    "meshes = []\n",
    "for idx in lbls[1:6]:\n",
    "    _, x, y, z = (labels == idx).nonzero()\n",
    "    points = np.vstack([x, y, z]).T\n",
    "    hull = ConvexHull(points)\n",
    "    triangles = hull.simplices\n",
    "    color = (points * [0.1, 0.3, 0.2]).sum(axis=1)\n",
    "    \n",
    "    mesh = meshio.Mesh(\n",
    "        points=points,\n",
    "        cells=[(\"triangle\", triangles),],\n",
    "        point_data={\"color\": color})\n",
    "    \n",
    "    mesh.remove_orphaned_nodes()\n",
    "    meshes.append(mesh)"
   ]
  },
  {
   "cell_type": "code",
   "execution_count": 6,
   "metadata": {},
   "outputs": [],
   "source": [
    "!rm -Rf {local_path / \"meshes\"}"
   ]
  },
  {
   "cell_type": "code",
   "execution_count": 7,
   "metadata": {},
   "outputs": [],
   "source": [
    "mesh_grp = data.create_group('meshes')"
   ]
  },
  {
   "cell_type": "code",
   "execution_count": 8,
   "metadata": {},
   "outputs": [],
   "source": [
    "for i, mesh in enumerate(meshes):\n",
    "    grp = mesh_grp.create_group(i)\n",
    "    ply_zarr.write(grp, mesh)\n"
   ]
  },
  {
   "cell_type": "code",
   "execution_count": 9,
   "metadata": {},
   "outputs": [
    {
     "data": {
      "application/vnd.jupyter.widget-view+json": {
       "model_id": "383f86269bc3453683e513d98b68e155",
       "version_major": 2,
       "version_minor": 0
      },
      "text/plain": [
       "Tree(nodes=(Node(disabled=True, name='/', nodes=(Node(disabled=True, icon='table', name='0 (1, 2, 257, 210, 25…"
      ]
     },
     "metadata": {},
     "output_type": "display_data"
    }
   ],
   "source": [
    "data.tree()"
   ]
  },
  {
   "cell_type": "code",
   "execution_count": 10,
   "metadata": {},
   "outputs": [
    {
     "name": "stdout",
     "output_type": "stream",
     "text": [
      "0\n",
      " ├── 3\n",
      " │   └── vertex_indices (336, 3) int32\n",
      " └── points\n",
      "     ├── color (170,) float64\n",
      "     ├── x (170,) int64\n",
      "     ├── y (170,) int64\n",
      "     └── z (170,) int64\n"
     ]
    }
   ],
   "source": [
    "print(mesh_grp[0].tree())"
   ]
  },
  {
   "cell_type": "code",
   "execution_count": 20,
   "metadata": {},
   "outputs": [
    {
     "data": {
      "text/plain": [
       "{'comments': ['Created by ply-zarr v0.0.1, 2021-05-06T12:00:52.642795'],\n",
       " 'elements': {'face': {'properties': [['list',\n",
       "     'uint8',\n",
       "     'int32',\n",
       "     'vertex_indices']],\n",
       "   'size': 336},\n",
       "  'vertex': {'properties': [['int64', 'x'],\n",
       "    ['int64', 'y'],\n",
       "    ['int64', 'z'],\n",
       "    ['double', 'color']],\n",
       "   'size': 170}},\n",
       " 'format': 'ascii 1.0'}"
      ]
     },
     "execution_count": 20,
     "metadata": {},
     "output_type": "execute_result"
    }
   ],
   "source": [
    "mesh_grp[0].attrs.asdict()"
   ]
  },
  {
   "cell_type": "code",
   "execution_count": 11,
   "metadata": {},
   "outputs": [],
   "source": [
    "mesh_reloaded = ply_zarr.read(mesh_grp[0])"
   ]
  },
  {
   "cell_type": "code",
   "execution_count": 12,
   "metadata": {},
   "outputs": [
    {
     "data": {
      "text/plain": [
       "<Surface layer 'Surface [5]' at 0x7fa05c605550>"
      ]
     },
     "execution_count": 12,
     "metadata": {},
     "output_type": "execute_result"
    }
   ],
   "source": [
    "viewer = napari.Viewer()\n",
    "viewer.add_image(data[0])\n",
    "\n",
    "for mesh in meshes:\n",
    "    viewer.add_surface(\n",
    "        (mesh.points,\n",
    "         mesh.cells[0].data,\n",
    "         mesh.point_data[\"color\"]),\n",
    "        colormap=\"Blues\", opacity=1\n",
    "    )\n",
    "\n",
    "surf = viewer.add_surface(\n",
    "        (mesh_reloaded.points,\n",
    "         mesh_reloaded.cells[0].data,\n",
    "         mesh_reloaded.point_data[\"color\"]),\n",
    "        colormap=\"Reds\", opacity=1\n",
    "    )"
   ]
  },
  {
   "cell_type": "code",
   "execution_count": null,
   "metadata": {},
   "outputs": [],
   "source": []
  }
 ],
 "metadata": {
  "kernelspec": {
   "display_name": "Python 3",
   "language": "python",
   "name": "python3"
  },
  "language_info": {
   "codemirror_mode": {
    "name": "ipython",
    "version": 3
   },
   "file_extension": ".py",
   "mimetype": "text/x-python",
   "name": "python",
   "nbconvert_exporter": "python",
   "pygments_lexer": "ipython3",
   "version": "3.7.6"
  }
 },
 "nbformat": 4,
 "nbformat_minor": 4
}
