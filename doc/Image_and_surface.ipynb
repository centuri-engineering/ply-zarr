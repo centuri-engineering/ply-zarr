{
 "cells": [
  {
   "cell_type": "code",
   "execution_count": 22,
   "metadata": {},
   "outputs": [],
   "source": [
    "%gui qt\n",
    "import sys\n",
    "from pathlib import Path\n",
    "import urllib3\n",
    "\n",
    "from dataclasses import dataclass\n",
    "from scipy.spatial import ConvexHull\n",
    "\n",
    "import numpy as np\n",
    "\n",
    "import meshio\n",
    "import zarr\n",
    "import napari\n",
    "\n",
    "sys.path.append(\"..\")\n",
    "import ply_zarr\n",
    "\n",
    "from ome_zarr.utils import download"
   ]
  },
  {
   "cell_type": "markdown",
   "metadata": {},
   "source": [
    "## Load data from IDR and download it"
   ]
  },
  {
   "cell_type": "code",
   "execution_count": 29,
   "metadata": {},
   "outputs": [
    {
     "name": "stdout",
     "output_type": "stream",
     "text": [
      "downloading...\n",
      "   6001247.zarr\n",
      "   6001247.zarr/labels\n",
      "   6001247.zarr/labels/masks\n",
      "to ../data/\n",
      "[########################################] | 100% Completed |  4.3s\n",
      "[########################################] | 100% Completed |  4.2s\n",
      "[########################################] | 100% Completed |  3.6s\n",
      "[########################################] | 100% Completed |  0.1s\n",
      "[########################################] | 100% Completed |  0.2s\n",
      "[########################################] | 100% Completed |  0.3s\n",
      "[########################################] | 100% Completed |  0.8s\n"
     ]
    }
   ],
   "source": [
    "idr_data = \"https://s3.embassy.ebi.ac.uk/idr/zarr/v0.1/6001247.zarr/\"\n",
    "\n",
    "\n",
    "idr_name = idr_data.rstrip('/').split(\"/\")[-1]\n",
    "\n",
    "local_path = Path(\"../data/\") / idr_name\n",
    "if not local_path.exists():\n",
    "    download(idr_data, \"../data/\")\n"
   ]
  },
  {
   "cell_type": "code",
   "execution_count": 30,
   "metadata": {},
   "outputs": [
    {
     "data": {
      "application/vnd.jupyter.widget-view+json": {
       "model_id": "d6f2443f270145f89ed9cebe39d30638",
       "version_major": 2,
       "version_minor": 0
      },
      "text/plain": [
       "Tree(nodes=(Node(disabled=True, name='/', nodes=(Node(disabled=True, icon='table', name='0 (1, 2, 257, 210, 25…"
      ]
     },
     "metadata": {},
     "output_type": "display_data"
    }
   ],
   "source": [
    "data = zarr.open(local_path.as_posix(), \"a\")\n",
    "\n",
    "data.tree()"
   ]
  },
  {
   "cell_type": "code",
   "execution_count": 31,
   "metadata": {},
   "outputs": [],
   "source": [
    "labels = data['labels'][\"masks\"][0][0]\n",
    "\n",
    "lbls = np.unique(labels)\n",
    "\n",
    "meshes = []\n",
    "for idx in lbls[1:6]:\n",
    "    _, x, y, z = (labels == idx).nonzero()\n",
    "    points = np.vstack([x, y, z]).T\n",
    "    hull = ConvexHull(points)\n",
    "    triangles = hull.simplices\n",
    "    color = (points * [0.1, 0.3, 0.2]).sum(axis=1)\n",
    "    \n",
    "    mesh = meshio.Mesh(\n",
    "        points=points,\n",
    "        cells=[(\"triangle\", triangles),],\n",
    "        point_data={\"color\": color})\n",
    "    \n",
    "    mesh.remove_orphaned_nodes()\n",
    "    meshes.append(mesh)"
   ]
  },
  {
   "cell_type": "code",
   "execution_count": 6,
   "metadata": {},
   "outputs": [],
   "source": [
    "# !rm -Rf {local_path / \"meshes\"}"
   ]
  },
  {
   "cell_type": "code",
   "execution_count": 32,
   "metadata": {},
   "outputs": [],
   "source": [
    "mesh_grp = data.create_group('meshes')"
   ]
  },
  {
   "cell_type": "code",
   "execution_count": 33,
   "metadata": {},
   "outputs": [],
   "source": [
    "for i, mesh in enumerate(meshes):\n",
    "    grp = mesh_grp.create_group(i)\n",
    "    ply_zarr.write(grp, mesh)\n"
   ]
  },
  {
   "cell_type": "code",
   "execution_count": 34,
   "metadata": {},
   "outputs": [
    {
     "data": {
      "application/vnd.jupyter.widget-view+json": {
       "model_id": "69f2133a641d43d9b29f44427e5b2c41",
       "version_major": 2,
       "version_minor": 0
      },
      "text/plain": [
       "Tree(nodes=(Node(disabled=True, name='/', nodes=(Node(disabled=True, icon='table', name='0 (1, 2, 257, 210, 25…"
      ]
     },
     "metadata": {},
     "output_type": "display_data"
    }
   ],
   "source": [
    "data.tree()"
   ]
  },
  {
   "cell_type": "code",
   "execution_count": 39,
   "metadata": {},
   "outputs": [
    {
     "data": {
      "application/vnd.jupyter.widget-view+json": {
       "model_id": "e6fdc8d1bd2448bfa40480db03a1aa17",
       "version_major": 2,
       "version_minor": 0
      },
      "text/plain": [
       "Tree(nodes=(Node(disabled=True, name='0', nodes=(Node(disabled=True, name='3', nodes=(Node(disabled=True, icon…"
      ]
     },
     "metadata": {},
     "output_type": "display_data"
    }
   ],
   "source": [
    "mesh_grp[0].tree()"
   ]
  },
  {
   "cell_type": "code",
   "execution_count": 37,
   "metadata": {},
   "outputs": [],
   "source": [
    "mesh_reloaded = ply_zarr.read(mesh_grp[0])"
   ]
  },
  {
   "cell_type": "code",
   "execution_count": 38,
   "metadata": {},
   "outputs": [],
   "source": [
    "viewer = napari.Viewer()\n",
    "viewer.add_image(data[0])\n",
    "\n",
    "for mesh in meshes:\n",
    "    viewer.add_surface(\n",
    "        (mesh.points,\n",
    "         mesh.cells[0].data,\n",
    "         mesh.point_data[\"color\"]),\n",
    "        colormap=\"Blues\", opacity=1\n",
    "    )\n",
    "\n",
    "surf = viewer.add_surface(\n",
    "        (mesh_reloaded.points,\n",
    "         mesh_reloaded.cells[0].data,\n",
    "         mesh_reloaded.point_data[\"color\"]),\n",
    "        colormap=\"Reds\", opacity=1\n",
    "    )"
   ]
  },
  {
   "cell_type": "code",
   "execution_count": null,
   "metadata": {},
   "outputs": [],
   "source": []
  }
 ],
 "metadata": {
  "kernelspec": {
   "display_name": "Python 3",
   "language": "python",
   "name": "python3"
  },
  "language_info": {
   "codemirror_mode": {
    "name": "ipython",
    "version": 3
   },
   "file_extension": ".py",
   "mimetype": "text/x-python",
   "name": "python",
   "nbconvert_exporter": "python",
   "pygments_lexer": "ipython3",
   "version": "3.7.6"
  }
 },
 "nbformat": 4,
 "nbformat_minor": 4
}
