{
 "cells": [
  {
   "cell_type": "code",
   "execution_count": 76,
   "metadata": {},
   "outputs": [],
   "source": [
    "%gui qt\n",
    "from dataclasses import dataclass\n",
    "\n",
    "import ome_zarr\n",
    "import zarr\n",
    "import napari\n",
    "from scipy.spatial import ConvexHull\n",
    "\n",
    "import numpy as np\n",
    "\n",
    "\n",
    "\n"
   ]
  },
  {
   "cell_type": "code",
   "execution_count": 10,
   "metadata": {},
   "outputs": [],
   "source": [
    "data = zarr.open(\"https://s3.embassy.ebi.ac.uk/idr/zarr/v0.1/6001247.zarr/\", mode='r')"
   ]
  },
  {
   "cell_type": "code",
   "execution_count": 26,
   "metadata": {},
   "outputs": [],
   "source": [
    "labels = data['labels'][0]"
   ]
  },
  {
   "cell_type": "code",
   "execution_count": 29,
   "metadata": {},
   "outputs": [],
   "source": [
    "lbls = np.unique(labels)"
   ]
  },
  {
   "cell_type": "code",
   "execution_count": 27,
   "metadata": {},
   "outputs": [],
   "source": [
    "arr = data[0]"
   ]
  },
  {
   "cell_type": "code",
   "execution_count": 68,
   "metadata": {},
   "outputs": [],
   "source": [
    "@dataclass\n",
    "class TriMesh:\n",
    "    points: np.ndarray\n",
    "    triangles: np.ndarray\n",
    "    index: int = 0\n",
    "    \n",
    "    @property\n",
    "    def colors(self):\n",
    "        return np.linalg.norm(\n",
    "            self.points - self.points.mean(axis=0)[None, :],\n",
    "            axis=1\n",
    "        )\n",
    "\n",
    "    "
   ]
  },
  {
   "cell_type": "code",
   "execution_count": 92,
   "metadata": {},
   "outputs": [],
   "source": [
    "meshes = []\n",
    "for idx in lbls[1:6]:\n",
    "    _, x, y, z = (labels[0] == idx).nonzero()\n",
    "    points = np.vstack([x, y, z]).T\n",
    "    hull = ConvexHull(points)\n",
    "    triangles = hull.simplices\n",
    "    meshes.append(TriMesh(points=points, triangles=triangles, index=idx))\n"
   ]
  },
  {
   "cell_type": "code",
   "execution_count": 75,
   "metadata": {},
   "outputs": [],
   "source": [
    "viewer = napari.Viewer()\n",
    "viewer.add_image(arr)\n",
    "\n",
    "for mesh in meshes:\n",
    "    viewer.add_surface((mesh.points, mesh.triangles, mesh.colors), colormap=\"Blues\", opacity=1)"
   ]
  },
  {
   "cell_type": "code",
   "execution_count": 90,
   "metadata": {},
   "outputs": [],
   "source": [
    "import meshio"
   ]
  },
  {
   "cell_type": "code",
   "execution_count": 99,
   "metadata": {},
   "outputs": [],
   "source": [
    "mesh_ = meshes[0]\n",
    "mesh = meshio.Mesh(\n",
    "    points=mesh_.points,\n",
    "    cells=[(\"triangle\", mesh_.triangles),],\n",
    "    point_data={\"color\": mesh_.colors})"
   ]
  },
  {
   "cell_type": "code",
   "execution_count": 83,
   "metadata": {},
   "outputs": [],
   "source": [
    "import sys"
   ]
  },
  {
   "cell_type": "code",
   "execution_count": 84,
   "metadata": {},
   "outputs": [],
   "source": [
    "sys.path.append(\"..\")"
   ]
  },
  {
   "cell_type": "code",
   "execution_count": 109,
   "metadata": {},
   "outputs": [
    {
     "data": {
      "text/plain": [
       "'4.0.10'"
      ]
     },
     "execution_count": 109,
     "metadata": {},
     "output_type": "execute_result"
    }
   ],
   "source": [
    "meshio.__version__"
   ]
  },
  {
   "cell_type": "code",
   "execution_count": 113,
   "metadata": {},
   "outputs": [],
   "source": [
    "cb = mesh.cells[0]"
   ]
  },
  {
   "cell_type": "code",
   "execution_count": 114,
   "metadata": {},
   "outputs": [
    {
     "data": {
      "text/plain": [
       "array([[22734, 30359, 12514],\n",
       "       [35905, 39779, 35567],\n",
       "       [35905, 37173, 39779],\n",
       "       ...,\n",
       "       [30882, 24923, 33708],\n",
       "       [30882, 38689, 38709],\n",
       "       [30882, 30932, 38709]], dtype=int32)"
      ]
     },
     "execution_count": 114,
     "metadata": {},
     "output_type": "execute_result"
    }
   ],
   "source": [
    "cb.data"
   ]
  },
  {
   "cell_type": "code",
   "execution_count": 85,
   "metadata": {},
   "outputs": [
    {
     "ename": "ImportError",
     "evalue": "cannot import name 'cell_type_to_count' from 'meshio.ply._ply' (/home/guillaume/miniconda3/lib/python3.7/site-packages/meshio/ply/_ply.py)",
     "output_type": "error",
     "traceback": [
      "\u001b[0;31m---------------------------------------------------------------------------\u001b[0m",
      "\u001b[0;31mImportError\u001b[0m                               Traceback (most recent call last)",
      "\u001b[0;32m<ipython-input-85-692272e093d0>\u001b[0m in \u001b[0;36m<module>\u001b[0;34m\u001b[0m\n\u001b[0;32m----> 1\u001b[0;31m \u001b[0;32mimport\u001b[0m \u001b[0mply_zarr\u001b[0m\u001b[0;34m\u001b[0m\u001b[0;34m\u001b[0m\u001b[0m\n\u001b[0m",
      "\u001b[0;32m~/Dev/ply-zarr/ply_zarr.py\u001b[0m in \u001b[0;36m<module>\u001b[0;34m\u001b[0m\n\u001b[1;32m     65\u001b[0m \u001b[0;34m\u001b[0m\u001b[0m\n\u001b[1;32m     66\u001b[0m \u001b[0;32mimport\u001b[0m \u001b[0mnumpy\u001b[0m \u001b[0;32mas\u001b[0m \u001b[0mnp\u001b[0m\u001b[0;34m\u001b[0m\u001b[0;34m\u001b[0m\u001b[0m\n\u001b[0;32m---> 67\u001b[0;31m \u001b[0;32mfrom\u001b[0m \u001b[0mmeshio\u001b[0m\u001b[0;34m.\u001b[0m\u001b[0mply\u001b[0m\u001b[0;34m.\u001b[0m\u001b[0m_ply\u001b[0m \u001b[0;32mimport\u001b[0m \u001b[0mcell_type_to_count\u001b[0m\u001b[0;34m,\u001b[0m \u001b[0mnumpy_to_ply_dtype\u001b[0m\u001b[0;34m\u001b[0m\u001b[0;34m\u001b[0m\u001b[0m\n\u001b[0m\u001b[1;32m     68\u001b[0m \u001b[0;32mfrom\u001b[0m \u001b[0mmeshio\u001b[0m \u001b[0;32mimport\u001b[0m \u001b[0mCellBlock\u001b[0m\u001b[0;34m\u001b[0m\u001b[0;34m\u001b[0m\u001b[0m\n\u001b[1;32m     69\u001b[0m \u001b[0;34m\u001b[0m\u001b[0m\n",
      "\u001b[0;31mImportError\u001b[0m: cannot import name 'cell_type_to_count' from 'meshio.ply._ply' (/home/guillaume/miniconda3/lib/python3.7/site-packages/meshio/ply/_ply.py)"
     ]
    }
   ],
   "source": [
    "import ply_zarr"
   ]
  },
  {
   "cell_type": "code",
   "execution_count": null,
   "metadata": {},
   "outputs": [],
   "source": []
  }
 ],
 "metadata": {
  "kernelspec": {
   "display_name": "Python 3",
   "language": "python",
   "name": "python3"
  },
  "language_info": {
   "codemirror_mode": {
    "name": "ipython",
    "version": 3
   },
   "file_extension": ".py",
   "mimetype": "text/x-python",
   "name": "python",
   "nbconvert_exporter": "python",
   "pygments_lexer": "ipython3",
   "version": "3.7.6"
  }
 },
 "nbformat": 4,
 "nbformat_minor": 4
}
